{
 "cells": [
  {
   "cell_type": "code",
   "execution_count": 39,
   "metadata": {},
   "outputs": [],
   "source": [
    "import os, shutil"
   ]
  },
  {
   "cell_type": "code",
   "execution_count": 28,
   "metadata": {},
   "outputs": [],
   "source": [
    "original_path = \"/home/user1/바탕화면/HJ/AICOSS 2023 (Pnuemonia)/chest_xray/\" #Original data의 파일 경로\n",
    "\n",
    "for big_file in os.listdir(original_path):\n",
    "    if big_file == 'train':\n",
    "        train_path = f\"{original_path}{big_file}/\" # Train_dataset의 파일 경로\n",
    "    elif big_file == 'test':\n",
    "        test_path = f\"{original_path}{big_file}/\" # Test_dataset의 파일 경로"
   ]
  },
  {
   "cell_type": "code",
   "execution_count": 29,
   "metadata": {},
   "outputs": [],
   "source": [
    "for small_file in os.listdir(train_path):\n",
    "    if small_file == 'PNEUMONIA':\n",
    "        train_pneu_path = f\"{train_path}{small_file}/\""
   ]
  },
  {
   "cell_type": "code",
   "execution_count": 30,
   "metadata": {},
   "outputs": [],
   "source": [
    "for small_file in os.listdir(test_path):\n",
    "    if small_file == 'PNEUMONIA':\n",
    "        test_pneu_path = f\"{test_path}{small_file}/\""
   ]
  },
  {
   "cell_type": "code",
   "execution_count": 44,
   "metadata": {},
   "outputs": [],
   "source": [
    "for img in os.listdir(train_pneu_path):\n",
    "    img_path = f\"{train_pneu_path}{img}\"\n",
    "    if 'virus' in img:\n",
    "        shutil.copy(img_path, f\"{train_path}VIRUS/\")\n",
    "    elif 'bacteria' in img:\n",
    "        shutil.copy(img_path, f\"{train_path}BACTERIA\")"
   ]
  },
  {
   "cell_type": "code",
   "execution_count": 45,
   "metadata": {},
   "outputs": [],
   "source": [
    "for img in os.listdir(test_pneu_path):\n",
    "    img_path = f\"{test_pneu_path}{img}\"\n",
    "    if 'virus' in img:\n",
    "        shutil.copy(img_path, f\"{test_path}VIRUS/\")\n",
    "    elif 'bacteria' in img:\n",
    "        shutil.copy(img_path, f\"{test_path}BACTERIA\")"
   ]
  }
 ],
 "metadata": {
  "kernelspec": {
   "display_name": "test",
   "language": "python",
   "name": "python3"
  },
  "language_info": {
   "codemirror_mode": {
    "name": "ipython",
    "version": 3
   },
   "file_extension": ".py",
   "mimetype": "text/x-python",
   "name": "python",
   "nbconvert_exporter": "python",
   "pygments_lexer": "ipython3",
   "version": "3.8.16"
  }
 },
 "nbformat": 4,
 "nbformat_minor": 2
}
