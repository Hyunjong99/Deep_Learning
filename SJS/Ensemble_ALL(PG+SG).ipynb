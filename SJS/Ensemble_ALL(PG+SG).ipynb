{
 "cells": [
  {
   "cell_type": "code",
   "execution_count": 1,
   "metadata": {},
   "outputs": [],
   "source": [
    "import os, glob, torch, torchvision, cv2, PIL, time, random\n",
    "from torchvision import transforms\n",
    "import torch.nn as nn\n",
    "import numpy as np\n",
    "import matplotlib.pyplot as plt\n",
    "from torch.utils.data import Dataset, DataLoader"
   ]
  },
  {
   "cell_type": "code",
   "execution_count": 2,
   "metadata": {},
   "outputs": [],
   "source": [
    "def seed_everything(seed):\n",
    "    random.seed(seed)\n",
    "    os.environ['PYTHONHASHSEED']=str(seed)\n",
    "    np.random.seed(seed)\n",
    "    torch.manual_seed(seed)\n",
    "    torch.cuda.manual_seed(seed)\n",
    "    torch.backends.cudnn.deterministic=True\n",
    "    torch.backends.cudnn.benchmark=True\n",
    "\n",
    "seed_everything(42)"
   ]
  },
  {
   "cell_type": "code",
   "execution_count": 3,
   "metadata": {},
   "outputs": [
    {
     "name": "stdout",
     "output_type": "stream",
     "text": [
      "cuda\n"
     ]
    }
   ],
   "source": [
    "device = \"cuda\" if torch.cuda.is_available() else 'cpu'\n",
    "print(device)"
   ]
  },
  {
   "cell_type": "code",
   "execution_count": 4,
   "metadata": {},
   "outputs": [],
   "source": [
    "# 5x: raw/flip/rotate/jitter/blur\n",
    "# ResNet & VGG\n",
    "CFG={'SEED' : 46,\n",
    "     'IMG_SIZE' : 224,\n",
    "     'AUGMENTATION' : 2,  # 1: ONLY flip / 2: 5가지 다\n",
    "     'TEST_PORTION' : 0.5,  # Test set 비율 (0.1 or 0.2)\n",
    "     'CONTROL' : \"NON_SJS\",  # \"NORMAL\" or \"NON_SJS\"\n",
    "     'BATCH_SIZE' : 64,\n",
    "     'LR' : 1e-4}"
   ]
  },
  {
   "cell_type": "code",
   "execution_count": 5,
   "metadata": {},
   "outputs": [],
   "source": [
    "control = CFG[\"CONTROL\"]\n",
    "seed = CFG[\"SEED\"]\n",
    "\n",
    "if CFG[\"AUGMENTATION\"] == 1:\n",
    "    augmentation = \"2x\"\n",
    "else:\n",
    "    augmentation = \"5x\"\n",
    "\n",
    "if CFG[\"TEST_PORTION\"] == 0.1:\n",
    "    test_portion = \"test10\"\n",
    "elif CFG[\"TEST_PORTION\"] == 0.2:\n",
    "    test_portion = \"test20\"\n",
    "elif CFG[\"TEST_PORTION\"] == 0.5:\n",
    "    test_portion = \"test50\"\n",
    "\n",
    "model1_save_path = f\"C:/Users/PC00/Desktop/HJ/Sjogren's Syndrome/{control}_save_path/{control}_{augmentation}_{test_portion}(ALL_Res)_seed{seed}.pt\"\n",
    "model2_save_path = f\"C:/Users/PC00/Desktop/HJ/Sjogren's Syndrome/{control}_save_path/{control}_{augmentation}_{test_portion}(ALL_VGG)_seed{seed}.pt\"\n",
    "model3_save_path = f\"C:/Users/PC00/Desktop/HJ/Sjogren's Syndrome/{control}_save_path/{control}_{augmentation}_{test_portion}(ALL_Inception)_seed{seed}.pt\""
   ]
  },
  {
   "cell_type": "code",
   "execution_count": 6,
   "metadata": {},
   "outputs": [
    {
     "name": "stdout",
     "output_type": "stream",
     "text": [
      "C:/Users/PC00/Desktop/HJ/Sjogren's Syndrome/NON_SJS_save_path/NON_SJS_5x_test50(ALL_Res)_seed46.pt\n",
      "C:/Users/PC00/Desktop/HJ/Sjogren's Syndrome/NON_SJS_save_path/NON_SJS_5x_test50(ALL_VGG)_seed46.pt\n",
      "C:/Users/PC00/Desktop/HJ/Sjogren's Syndrome/NON_SJS_save_path/NON_SJS_5x_test50(ALL_Inception)_seed46.pt\n"
     ]
    }
   ],
   "source": [
    "print(model1_save_path)  # 돌리기 전에 save_path 제대로 불러왔는지 확인하기\n",
    "print(model2_save_path)\n",
    "print(model3_save_path)"
   ]
  },
  {
   "cell_type": "code",
   "execution_count": 7,
   "metadata": {},
   "outputs": [],
   "source": [
    "# 파일 경로 가져오기\n",
    "# PG: Parotid Gland (귀밑샘)\n",
    "# SG: Submandibular Gland (턱밑샘)\n",
    "def GET_PATH(path, control_group):\n",
    "    # Control group: \"NORMAL\" or \"NON_SJS\" (문자열 입력)\n",
    "    # Gland: \"PTG_\" or \"SMG_\" (문자열 입력)\n",
    "    control_list, sjs_list = [], []\n",
    "    control_label, sjs_label = [], []\n",
    "    for diagnosis in os.listdir(path):\n",
    "        if diagnosis == control_group:    # CONTROL: NORMAL / NON_SJS\n",
    "            control_path = path + diagnosis + f\"/\"\n",
    "            for control_img in os.listdir(control_path):\n",
    "                control_img_path = control_path + control_img\n",
    "                control_list.append(control_img_path)\n",
    "                control_label.append(np.array([0,1]))\n",
    "        elif diagnosis == 'SJS':\n",
    "            sjs_path = path + diagnosis + f\"/\"\n",
    "            for sjs_img in os.listdir(sjs_path):\n",
    "                sjs_img_path = sjs_path + sjs_img\n",
    "                sjs_list.append(sjs_img_path)\n",
    "                sjs_label.append(np.array([1,0]))\n",
    "    \n",
    "    return control_list, sjs_list, control_label, sjs_label"
   ]
  },
  {
   "cell_type": "code",
   "execution_count": 8,
   "metadata": {},
   "outputs": [],
   "source": [
    "# Total_Data -> PG / SG -> NORMAL / SJS\n",
    "root_path = f\"C:/Users/PC00/Desktop/Project2/AICOSS/Total_Data/\"\n",
    "control_path, sjs_path, control_label, sjs_label = GET_PATH(root_path, CFG[\"CONTROL\"])"
   ]
  },
  {
   "cell_type": "code",
   "execution_count": 9,
   "metadata": {},
   "outputs": [
    {
     "name": "stdout",
     "output_type": "stream",
     "text": [
      "TOTAL: 4851\n",
      "CONTROL: 1489\n",
      "SJS: 3362\n"
     ]
    }
   ],
   "source": [
    "total_path = control_path + sjs_path\n",
    "total_label = control_label + sjs_label\n",
    "\n",
    "print(f\"TOTAL: {len(total_path)}\")\n",
    "print(f\"CONTROL: {len(control_path)}\")\n",
    "print(f\"SJS: {len(sjs_path)}\")"
   ]
  },
  {
   "cell_type": "code",
   "execution_count": 10,
   "metadata": {},
   "outputs": [],
   "source": [
    "preprocessing = transforms.Compose([\n",
    "    transforms.Resize((CFG['IMG_SIZE'], CFG['IMG_SIZE'])),\n",
    "    transforms.ToTensor()\n",
    "])\n",
    "\n",
    "class CustomDataset(Dataset):\n",
    "    def __init__(self, path, label, transform=None):\n",
    "        self.path = path\n",
    "        self.label = label\n",
    "        self.transform = transform\n",
    "    \n",
    "    def __len__(self):\n",
    "        return len(self.path)\n",
    "    \n",
    "    def __get_img__(self, path):\n",
    "        img = PIL.Image.open(path)\n",
    "        return img\n",
    "    \n",
    "    def __getitem__(self, index):\n",
    "        path = self.path[index]\n",
    "        label = self.label[index]\n",
    "\n",
    "        img = self.__get_img__(path)\n",
    "\n",
    "        if self.transform is not None:\n",
    "            img = self.transform(img)\n",
    "        \n",
    "        return img, torch.from_numpy(label)"
   ]
  },
  {
   "cell_type": "code",
   "execution_count": 11,
   "metadata": {},
   "outputs": [
    {
     "name": "stdout",
     "output_type": "stream",
     "text": [
      "PLAIN TRAIN: 2426\n",
      "PLAIN TEST: 2425\n",
      "TOTAL: 4851 == 4851\n",
      "\n",
      "Train CONTROL indexes: [2, 8, 9, 10, 11]\n",
      "Test CONTROL indexes: [1309, 228, 51, 563, 501]\n",
      "Train SJS indexes: [0, 1, 2, 3, 5]\n",
      "Test SJS indexes: [2928, 812, 311, 2425, 2828]\n",
      "TEST: 2425\n"
     ]
    }
   ],
   "source": [
    "test_control_length = int(CFG['TEST_PORTION']*len(control_path))\n",
    "test_control_indexes = random.sample(range(0,len(control_path)), test_control_length)\n",
    "train_control_indexes = list(set(list(range(0,len(control_path))))-set(test_control_indexes))\n",
    "\n",
    "test_sjs_length = int(CFG['TEST_PORTION']*len(sjs_path))\n",
    "test_sjs_indexes = random.sample(range(0,len(sjs_path)), test_sjs_length)\n",
    "train_sjs_indexes = list(set(list(range(0,len(sjs_path))))-set(test_sjs_indexes))\n",
    "\n",
    "test_path = list(map(lambda x: control_path[x], test_control_indexes)) + list(map(lambda x: sjs_path[x], test_sjs_indexes))\n",
    "test_label = list(map(lambda x: control_label[x], test_control_indexes)) + list(map(lambda x: sjs_label[x], test_sjs_indexes))\n",
    "train_path = list(map(lambda x: control_path[x], train_control_indexes)) + list(map(lambda x: sjs_path[x], train_sjs_indexes))\n",
    "train_label = list(map(lambda x: control_label[x], train_control_indexes)) + list(map(lambda x: sjs_label[x], train_sjs_indexes))\n",
    "\n",
    "print(f\"PLAIN TRAIN: {len(train_path)}\")\n",
    "print(f\"PLAIN TEST: {len(test_path)}\")\n",
    "print(f\"TOTAL: {len(train_path)+len(test_path)} == {len(total_path)}\")\n",
    "print()\n",
    "\n",
    "test_dataset = CustomDataset(test_path, test_label, transform=preprocessing)\n",
    "\n",
    "print(f\"Train CONTROL indexes: {train_control_indexes[:5]}\")\n",
    "print(f\"Test CONTROL indexes: {test_control_indexes[:5]}\")\n",
    "print(f\"Train SJS indexes: {train_sjs_indexes[:5]}\")\n",
    "print(f\"Test SJS indexes: {test_sjs_indexes[:5]}\")\n",
    "print(f\"TEST: {len(test_dataset)}\")"
   ]
  },
  {
   "cell_type": "code",
   "execution_count": 12,
   "metadata": {},
   "outputs": [
    {
     "name": "stderr",
     "output_type": "stream",
     "text": [
      "c:\\Users\\PC00\\anaconda3\\envs\\torch\\Lib\\site-packages\\tqdm\\auto.py:21: TqdmWarning: IProgress not found. Please update jupyter and ipywidgets. See https://ipywidgets.readthedocs.io/en/stable/user_install.html\n",
      "  from .autonotebook import tqdm as notebook_tqdm\n"
     ]
    }
   ],
   "source": [
    "import timm\n",
    "\n",
    "class Model1(nn.Module):\n",
    "    def __init__(self, classes=2):\n",
    "        super().__init__()\n",
    "        self.model = timm.create_model('resnet50', pretrained=True)\n",
    "        self.model.fc = nn.Linear(in_features=2048, out_features=classes, bias=True)\n",
    "        self.softmax = nn.Softmax(dim=-1)\n",
    "\n",
    "    def forward(self, x):\n",
    "        x = self.model(x)\n",
    "        x = self.softmax(x)\n",
    "        \n",
    "        return x\n",
    "\n",
    "class Model2(nn.Module):\n",
    "    def __init__(self, classes=2):\n",
    "        super().__init__()\n",
    "        self.model = timm.create_model('vgg16_bn', pretrained=True)\n",
    "        self.model.head.fc = nn.Linear(in_features=4096, out_features=classes, bias=True)\n",
    "        self.softmax = nn.Softmax(dim=-1)\n",
    "\n",
    "    def forward(self, x):\n",
    "        x = self.model(x)\n",
    "        x = self.softmax(x)\n",
    "        \n",
    "        return x\n",
    "\n",
    "class Model3(nn.Module):\n",
    "    def __init__(self, classes=2):\n",
    "        super().__init__()\n",
    "        self.model = timm.create_model('inception_v3', pretrained=True)\n",
    "        self.model.fc = nn.Linear(in_features=2048, out_features=classes, bias=True)\n",
    "        self.softmax = nn.Softmax(dim=-1)\n",
    "\n",
    "    def forward(self, x):\n",
    "        x = self.model(x)\n",
    "        x = self.softmax(x)\n",
    "        \n",
    "        return x"
   ]
  },
  {
   "cell_type": "code",
   "execution_count": 13,
   "metadata": {},
   "outputs": [],
   "source": [
    "model1 = Model1().to(device)\n",
    "model2 = Model2().to(device)\n",
    "model3 = Model3().to(device)"
   ]
  },
  {
   "cell_type": "code",
   "execution_count": 14,
   "metadata": {},
   "outputs": [],
   "source": [
    "def test_loop(dataloader, model1, model2, model3, model1_path, model2_path, model3_path):\n",
    "    model1.load_state_dict(torch.load(model1_path))\n",
    "    model2.load_state_dict(torch.load(model2_path))\n",
    "    model3.load_state_dict(torch.load(model3_path))\n",
    "    model1.eval()\n",
    "    model2.eval()\n",
    "    model3.eval()\n",
    "\n",
    "    pred_control=[]\n",
    "    label_control=[]\n",
    "    pred_sjs=[]\n",
    "    label_sjs=[]\n",
    "\n",
    "    pred=[]\n",
    "    label=[]\n",
    "\n",
    "    for (X, y) in dataloader:\n",
    "        for t in y:\n",
    "            label.append(t.detach().tolist())\n",
    "            label_control.append(t[1].detach().tolist())\n",
    "            label_sjs.append(t[0].detach().tolist())\n",
    "\n",
    "        X = X.to(device).float()\n",
    "        y = y.to(device).float()\n",
    "\n",
    "        output1 = model1(X)\n",
    "        output2 = model2(X)\n",
    "        output3 = model3(X)\n",
    "        \n",
    "        \"\"\"Mean value Ensemble (START)\"\"\"\n",
    "        output = (output1+output2+output3)/3\n",
    "        for o in output:\n",
    "            pred.append(o.detach().cpu().tolist())\n",
    "            pred_control.append(o[1].detach().cpu().tolist())\n",
    "            pred_sjs.append(o[0].detach().cpu().tolist())\n",
    "        \"\"\"Mean value Ensemble (END)\"\"\"\n",
    "\n",
    "        \"\"\"Maximum value voting (START)\"\"\"\n",
    "        # ctr_arr = np.array((output1.cpu().detach().numpy()[0][1], output2.cpu().detach().numpy()[0][1], output3.cpu().detach().numpy()[0][1]))\n",
    "        # sjs_arr = np.array((output1.cpu().detach().numpy()[0][0], output2.cpu().detach().numpy()[0][0], output3.cpu().detach().numpy()[0][0]))\n",
    "        # ctr_idx = np.argmax(ctr_arr)\n",
    "        # sjs_idx = np.argmax(sjs_arr)\n",
    "        # output = [sjs_arr[sjs_idx], ctr_arr[ctr_idx]]\n",
    "\n",
    "        # pred.append(output)\n",
    "        # pred_control.append(output[1])\n",
    "        # pred_sjs.append(output[0])\n",
    "        \"\"\"Maximum value voting (END)\"\"\"\n",
    "\n",
    "    return label_control, label_sjs, pred_control, pred_sjs, np.array(label), np.array(pred)"
   ]
  },
  {
   "cell_type": "code",
   "execution_count": 15,
   "metadata": {},
   "outputs": [],
   "source": [
    "test_dataloader = DataLoader(test_dataset, batch_size=1, shuffle=True)\n",
    "label_control, label_sjs, pred_control, pred_sjs, label, pred = test_loop(test_dataloader, model1, model2, model3, model1_save_path, model2_save_path, model3_save_path)"
   ]
  },
  {
   "cell_type": "code",
   "execution_count": 16,
   "metadata": {},
   "outputs": [
    {
     "name": "stdout",
     "output_type": "stream",
     "text": [
      "744\n",
      "1681\n"
     ]
    }
   ],
   "source": [
    "test_control, test_sjs = 0, 0\n",
    "for (X, y) in test_dataloader:\n",
    "    for t in y:\n",
    "        if t[1] == torch.Tensor([1]):\n",
    "            test_control += 1\n",
    "        else:\n",
    "            test_sjs += 1\n",
    "\n",
    "print(test_control)\n",
    "print(test_sjs)"
   ]
  },
  {
   "cell_type": "code",
   "execution_count": 17,
   "metadata": {},
   "outputs": [
    {
     "name": "stdout",
     "output_type": "stream",
     "text": [
      "0.7789943218231201\n"
     ]
    },
    {
     "data": {
      "text/plain": [
       "<matplotlib.legend.Legend at 0x2be8e746d50>"
      ]
     },
     "execution_count": 17,
     "metadata": {},
     "output_type": "execute_result"
    },
    {
     "data": {
      "image/png": "[encoded data removed]",
      "text/plain": [
       "<Figure size 640x480 with 1 Axes>"
      ]
     },
     "metadata": {},
     "output_type": "display_data"
    }
   ],
   "source": [
    "from sklearn.metrics import roc_auc_score, roc_curve\n",
    "\n",
    "auc = roc_auc_score(label_sjs, pred_sjs)\n",
    "\n",
    "fpr, tpr, thresholds = roc_curve(label_sjs, pred_sjs)\n",
    "J=tpr-fpr\n",
    "idx = np.argmax(J)\n",
    "\n",
    "best_thresh = thresholds[idx]\n",
    "sens, spec = tpr[idx], 1-fpr[idx]\n",
    "print(best_thresh)\n",
    "\n",
    "acc = (sens*test_sjs + spec*test_control) / len(label_sjs)\n",
    "auc = roc_auc_score(label_sjs, pred_sjs)\n",
    "\n",
    "plt.title(\"Roc Curve\")\n",
    "plt.plot([0,1], [0,1], linestyle='--', markersize=0.01, color='black')\n",
    "plt.plot(fpr, tpr, marker='.', color='black', markersize=0.05)\n",
    "plt.scatter(fpr[idx], tpr[idx], marker='o', s=200, color='r',\n",
    "            label = 'Sensitivity : %.3f (%d / %d), \\nSpecificity = %.3f (%d / %d), \\nAUC = %.3f , \\nACC = %.3f (%d / %d)' % (sens, (sens*test_sjs), test_sjs, spec, (spec*test_control), test_control, auc, acc, sens*test_sjs+spec*test_control, test_sjs+test_control))\n",
    "plt.legend()"
   ]
  },
  {
   "cell_type": "code",
   "execution_count": 18,
   "metadata": {},
   "outputs": [
    {
     "data": {
      "text/plain": [
       "<Axes: >"
      ]
     },
     "execution_count": 18,
     "metadata": {},
     "output_type": "execute_result"
    },
    {
     "data": {
      "image/png": "[encoded data removed]",
      "text/plain": [
       "<Figure size 640x480 with 2 Axes>"
      ]
     },
     "metadata": {},
     "output_type": "display_data"
    }
   ],
   "source": [
    "from sklearn.metrics import roc_auc_score, roc_curve, confusion_matrix\n",
    "import seaborn as sns\n",
    "\n",
    "OH_pred = []\n",
    "\n",
    "for vector in pred:\n",
    "    OH_pred.append(np.argmax(vector, axis=0))\n",
    "\n",
    "OH_label = []\n",
    "\n",
    "for vector in label:\n",
    "    OH_label.append(np.argmax(vector, axis=0))\n",
    "\n",
    "cm = confusion_matrix(OH_label, OH_pred)\n",
    "sns.heatmap(cm, annot=True, cmap='Blues')"
   ]
  }
 ],
 "metadata": {
  "kernelspec": {
   "display_name": "test",
   "language": "python",
   "name": "python3"
  },
  "language_info": {
   "codemirror_mode": {
    "name": "ipython",
    "version": 3
   },
   "file_extension": ".py",
   "mimetype": "text/x-python",
   "name": "python",
   "nbconvert_exporter": "python",
   "pygments_lexer": "ipython3",
   "version": "3.11.8"
  }
 },
 "nbformat": 4,
 "nbformat_minor": 2
}
