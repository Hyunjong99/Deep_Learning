{
 "cells": [
  {
   "cell_type": "code",
   "execution_count": 1,
   "metadata": {},
   "outputs": [],
   "source": [
    "import os, glob, torch, torchvision, cv2, PIL, time, random\n",
    "from torchvision import transforms\n",
    "import torch.nn as nn\n",
    "import numpy as np\n",
    "import matplotlib.pyplot as plt\n",
    "from torch.utils.data import Dataset, DataLoader"
   ]
  },
  {
   "cell_type": "code",
   "execution_count": 2,
   "metadata": {},
   "outputs": [],
   "source": [
    "def seed_everything(seed):\n",
    "    random.seed(seed)\n",
    "    os.environ['PYTHONHASHSEED']=str(seed)\n",
    "    np.random.seed(seed)\n",
    "    torch.manual_seed(seed)\n",
    "    torch.cuda.manual_seed(seed)\n",
    "    torch.backends.cudnn.deterministic=True\n",
    "    torch.backends.cudnn.benchmark=True\n",
    "\n",
    "seed_everything(42)"
   ]
  },
  {
   "cell_type": "code",
   "execution_count": 3,
   "metadata": {},
   "outputs": [
    {
     "name": "stdout",
     "output_type": "stream",
     "text": [
      "cuda\n"
     ]
    }
   ],
   "source": [
    "device = \"cuda\" if torch.cuda.is_available() else 'cpu'\n",
    "print(device)"
   ]
  },
  {
   "cell_type": "code",
   "execution_count": 4,
   "metadata": {},
   "outputs": [],
   "source": [
    "# 5x: raw/flip/rotate/jitter/blur\n",
    "CFG={'SEED' : 46,\n",
    "     'IMG_SIZE' : 224,\n",
    "     'AUGMENTATION' : 2,  # 1: ONLY flip / 2: 5가지 다\n",
    "     'TEST_PORTION' : 0.5,  # Test set 비율 (0.1 or 0.2)\n",
    "     'CONTROL' : \"NON_SJS\",  # \"NORMAL\" or \"NON_SJS\"\n",
    "     'gland' : \"SMG_\",  # \"PTG_\" or \"SMG_\"\n",
    "     'THRESHOLD': 0.8,\n",
    "     'BATCH_SIZE' : 64}"
   ]
  },
  {
   "cell_type": "code",
   "execution_count": 5,
   "metadata": {},
   "outputs": [],
   "source": [
    "control = CFG[\"CONTROL\"]\n",
    "seed = CFG[\"SEED\"]\n",
    "\n",
    "if CFG[\"AUGMENTATION\"] == 1:\n",
    "    augmentation = \"2x\"\n",
    "else:\n",
    "    augmentation = \"5x\"\n",
    "\n",
    "if CFG[\"TEST_PORTION\"] == 0.1:\n",
    "    test_portion = \"test10\"\n",
    "elif CFG[\"TEST_PORTION\"] == 0.2:\n",
    "    test_portion = \"test20\"\n",
    "elif CFG[\"TEST_PORTION\"] == 0.5:\n",
    "    test_portion = \"test50\"\n",
    "\n",
    "if CFG[\"gland\"] == \"PTG_\":\n",
    "    gland = \"PG\"\n",
    "else:\n",
    "    gland = \"SG\"\n",
    "\n",
    "model1_save_path = f\"C:/Users/PC00/Desktop/HJ/Sjogren's Syndrome/{control}_save_path/{control}_{augmentation}_{test_portion}({gland}_Res)_seed{seed}.pt\"\n",
    "model2_save_path = f\"C:/Users/PC00/Desktop/HJ/Sjogren's Syndrome/{control}_save_path/{control}_{augmentation}_{test_portion}({gland}_VGG)_seed{seed}.pt\"\n",
    "model3_save_path = f\"C:/Users/PC00/Desktop/HJ/Sjogren's Syndrome/{control}_save_path/{control}_{augmentation}_{test_portion}({gland}_Inception)_seed{seed}.pt\""
   ]
  },
  {
   "cell_type": "code",
   "execution_count": 6,
   "metadata": {},
   "outputs": [
    {
     "name": "stdout",
     "output_type": "stream",
     "text": [
      "C:/Users/PC00/Desktop/HJ/Sjogren's Syndrome/NON_SJS_save_path/NON_SJS_5x_test50(SG_Res)_seed46.pt\n",
      "C:/Users/PC00/Desktop/HJ/Sjogren's Syndrome/NON_SJS_save_path/NON_SJS_5x_test50(SG_VGG)_seed46.pt\n",
      "C:/Users/PC00/Desktop/HJ/Sjogren's Syndrome/NON_SJS_save_path/NON_SJS_5x_test50(SG_Inception)_seed46.pt\n"
     ]
    }
   ],
   "source": [
    "print(model1_save_path)  # 돌리기 전에 save_path 제대로 불러왔는지 확인하기\n",
    "print(model2_save_path)\n",
    "print(model3_save_path)"
   ]
  },
  {
   "cell_type": "code",
   "execution_count": 7,
   "metadata": {},
   "outputs": [],
   "source": [
    "# 파일 경로 가져오기\n",
    "# PG: Parotid Gland (귀밑샘)\n",
    "# SG: Submandibular Gland (턱밑샘)\n",
    "def GET_PATH(path, control_group, gland):\n",
    "    # NON_SJS: 240, SJS: 226\n",
    "    control_dict, sjs_dict = dict(), dict()\n",
    "    control_label, sjs_label = [], []\n",
    "\n",
    "    for diagnosis in os.listdir(path):\n",
    "        if diagnosis == control_group or diagnosis == 'SJS':\n",
    "            diagnosed_path = path + diagnosis + f\"/\"\n",
    "            diagnosed_list = os.listdir(diagnosed_path)  # DIAGNOSED group 환자번호를 LIST로 저장\n",
    "            for i in range(len(diagnosed_list)):\n",
    "                curr_ID = diagnosed_list[i]  # 현재 DIAGNOSED group 환자번호\n",
    "                curr_images = []  # 현재 환자번호의 모든 사진을 LIST로 저장\n",
    "                curr_path = diagnosed_path + curr_ID + f\"/\"  # 현재 환자번호 파일 경로\n",
    "                for img in os.listdir(curr_path):  # 현재 환자번호의 모든 사진 반복\n",
    "                    if gland in img:\n",
    "                        curr_images.append(f\"{curr_path}{img}\")  # 현재 환자번호의 모든 사진 경로를 LIST로 저장\n",
    "                if diagnosis == control_group:\n",
    "                    control_dict[curr_ID] = curr_images\n",
    "                    control_label.append(np.array([0,1]))\n",
    "                elif diagnosis == \"SJS\":\n",
    "                    sjs_dict[curr_ID] = curr_images\n",
    "                    sjs_label.append(np.array([1,0]))\n",
    "    \n",
    "    return control_dict, sjs_dict, control_label, sjs_label"
   ]
  },
  {
   "cell_type": "code",
   "execution_count": 8,
   "metadata": {},
   "outputs": [],
   "source": [
    "root_path = f\"C:/Users/PC00/Desktop/Project2/AICOSS/PERSON/\"\n",
    "control_dict, sjs_dict, control_label, sjs_label = GET_PATH(root_path, CFG[\"CONTROL\"], CFG['gland'])"
   ]
  },
  {
   "cell_type": "code",
   "execution_count": 9,
   "metadata": {},
   "outputs": [
    {
     "name": "stdout",
     "output_type": "stream",
     "text": [
      "TOTAL: 466\n",
      "CONTROL: 240\n",
      "SJS: 226\n"
     ]
    }
   ],
   "source": [
    "print(f\"TOTAL: {len(control_dict) + len(sjs_dict)}\")\n",
    "print(f\"CONTROL: {len(control_dict)}\")\n",
    "print(f\"SJS: {len(sjs_dict)}\")"
   ]
  },
  {
   "cell_type": "code",
   "execution_count": 10,
   "metadata": {},
   "outputs": [],
   "source": [
    "preprocessing = transforms.Compose([\n",
    "    transforms.Resize((CFG['IMG_SIZE'], CFG['IMG_SIZE'])),\n",
    "    transforms.ToTensor()\n",
    "])\n",
    "\n",
    "class CustomDataset(Dataset):\n",
    "    def __init__(self, whole, label, transform=None):\n",
    "        self.whole = whole\n",
    "        self.ID_list = list(whole.keys())\n",
    "        self.label = label\n",
    "        self.empty_count = 0\n",
    "        self.transform = transform\n",
    "    \n",
    "    def __len__(self):  # 환자 총 인원 수\n",
    "        return len(self.whole)\n",
    "    \n",
    "    def __getID__(self, idx):\n",
    "        return self.ID_list[idx]\n",
    "    \n",
    "    def __get_pathlist__(self, idx):\n",
    "        ID = self.__getID__(idx)\n",
    "        return self.whole[ID]\n",
    "    \n",
    "    def __get_img__(self, idx):\n",
    "        path_list = self.__get_pathlist__(idx)\n",
    "        size = len(path_list)\n",
    "        img = torch.zeros((3, 224, 224))\n",
    "        if size == 0:\n",
    "            self.empty_count += 1\n",
    "        elif size != 0:\n",
    "            for i in range(size):\n",
    "                curr_img = self.transform(PIL.Image.open(path_list[i]))\n",
    "                img = img + curr_img\n",
    "            img = img/size\n",
    "\n",
    "        return img  # 환자의 모든 사진을 concatenate한 뒤 평균 낸 이미지\n",
    "    \n",
    "    def __getitem__(self, idx):\n",
    "        img = self.__get_img__(idx)\n",
    "        if torch.sum(img).item() == 0:\n",
    "            label = np.array([0,0])\n",
    "        else:\n",
    "            label = self.label[idx]\n",
    "        \n",
    "        return img, torch.from_numpy(label)"
   ]
  },
  {
   "cell_type": "code",
   "execution_count": 11,
   "metadata": {},
   "outputs": [],
   "source": [
    "control_dataset = CustomDataset(control_dict, control_label, preprocessing)\n",
    "sjs_dataset = CustomDataset(sjs_dict, sjs_label, preprocessing)\n",
    "dataset = control_dataset + sjs_dataset"
   ]
  },
  {
   "cell_type": "code",
   "execution_count": 12,
   "metadata": {},
   "outputs": [
    {
     "name": "stderr",
     "output_type": "stream",
     "text": [
      "c:\\Users\\PC00\\anaconda3\\envs\\torch\\Lib\\site-packages\\tqdm\\auto.py:21: TqdmWarning: IProgress not found. Please update jupyter and ipywidgets. See https://ipywidgets.readthedocs.io/en/stable/user_install.html\n",
      "  from .autonotebook import tqdm as notebook_tqdm\n"
     ]
    }
   ],
   "source": [
    "import timm\n",
    "\n",
    "class Model1(nn.Module):\n",
    "    def __init__(self, classes=2):\n",
    "        super().__init__()\n",
    "        self.model = timm.create_model('resnet50', pretrained=True)\n",
    "        self.model.fc = nn.Linear(in_features=2048, out_features=classes, bias=True)\n",
    "        self.softmax = nn.Softmax(dim=-1)\n",
    "\n",
    "    def forward(self, x):\n",
    "        x = self.model(x)\n",
    "        x = self.softmax(x)\n",
    "        \n",
    "        return x\n",
    "\n",
    "class Model2(nn.Module):\n",
    "    def __init__(self, classes=2):\n",
    "        super().__init__()\n",
    "        self.model = timm.create_model('vgg16_bn', pretrained=True)\n",
    "        self.model.head.fc = nn.Linear(in_features=4096, out_features=classes, bias=True)\n",
    "        self.softmax = nn.Softmax(dim=-1)\n",
    "\n",
    "    def forward(self, x):\n",
    "        x = self.model(x)\n",
    "        x = self.softmax(x)\n",
    "        \n",
    "        return x\n",
    "\n",
    "class Model3(nn.Module):\n",
    "    def __init__(self, classes=2):\n",
    "        super().__init__()\n",
    "        self.model = timm.create_model('inception_v3', pretrained=True)\n",
    "        self.model.fc = nn.Linear(in_features=2048, out_features=classes, bias=True)\n",
    "        self.softmax = nn.Softmax(dim=-1)\n",
    "\n",
    "    def forward(self, x):\n",
    "        x = self.model(x)\n",
    "        x = self.softmax(x)\n",
    "        \n",
    "        return x"
   ]
  },
  {
   "cell_type": "code",
   "execution_count": 13,
   "metadata": {},
   "outputs": [],
   "source": [
    "model1 = Model1().to(device)\n",
    "model2 = Model2().to(device)\n",
    "model3 = Model3().to(device)"
   ]
  },
  {
   "cell_type": "code",
   "execution_count": 14,
   "metadata": {},
   "outputs": [],
   "source": [
    "def test_loop(dataloader, model1, model2, model3, model1_path, model2_path, model3_path):\n",
    "    model1.load_state_dict(torch.load(model1_path))\n",
    "    model2.load_state_dict(torch.load(model2_path))\n",
    "    model3.load_state_dict(torch.load(model3_path))\n",
    "    model1.eval()\n",
    "    model2.eval()\n",
    "    model3.eval()\n",
    "\n",
    "    pred_control=[]\n",
    "    label_control=[]\n",
    "    pred_sjs=[]\n",
    "    label_sjs=[]\n",
    "\n",
    "    pred=[]\n",
    "    label=[]\n",
    "\n",
    "    for (X, y) in dataloader:\n",
    "        X = X.to(device).float()  # BATCH=1: 배치 한 번당 이미지 한 개\n",
    "        y = y.to(device).float()\n",
    "\n",
    "        X_np = X.cpu().detach().numpy()\n",
    "        flag = np.sum(X_np)\n",
    "\n",
    "        if flag == 0:\n",
    "            continue\n",
    "\n",
    "        for t in y:\n",
    "            label.append(t.detach().tolist())\n",
    "            label_control.append(t[1].detach().tolist())\n",
    "            label_sjs.append(t[0].detach().tolist())\n",
    "\n",
    "        output1 = model1(X)\n",
    "        output2 = model2(X)\n",
    "        output3 = model3(X)\n",
    "        \n",
    "        \"\"\"Mean value Ensemble (START)\"\"\"\n",
    "        # output = (output1+output2+output3)/3\n",
    "\n",
    "        # for o in output:\n",
    "        #     pred.append(o.detach().cpu().tolist())\n",
    "        #     pred_control.append(o[1].detach().cpu().tolist())\n",
    "        #     pred_sjs.append(o[0].detach().cpu().tolist())\n",
    "        \"\"\"Mean value Ensemble (END)\"\"\"\n",
    "\n",
    "        \"\"\"Maximum value voting (START)\"\"\"\n",
    "        # ctr_arr = np.array((output1.cpu().detach().numpy()[0][1], output2.cpu().detach().numpy()[0][1], output3.cpu().detach().numpy()[0][1]))\n",
    "        # sjs_arr = np.array((output1.cpu().detach().numpy()[0][0], output2.cpu().detach().numpy()[0][0], output3.cpu().detach().numpy()[0][0]))\n",
    "        # ctr_idx = np.argmax(ctr_arr)\n",
    "        # sjs_idx = np.argmax(sjs_arr)\n",
    "        # output = [sjs_arr[sjs_idx], ctr_arr[ctr_idx]]\n",
    "\n",
    "        # pred.append(output)\n",
    "        # pred_control.append(output[1])\n",
    "        # pred_sjs.append(output[0])\n",
    "        \"\"\"Maximum value voting (END)\"\"\"\n",
    "\n",
    "        \"\"\"Hard voting (START)\"\"\"\n",
    "        # argue = 0\n",
    "        # sjs_result, control_result = [], []\n",
    "\n",
    "        # sjs1, control1 = output1.cpu().detach()[0]\n",
    "        # sjs2, control2 = output2.cpu().detach()[0]\n",
    "        # sjs3, control3 = output3.cpu().detach()[0]\n",
    "        # sjs_list = [sjs1, sjs2, sjs3]\n",
    "        # control_list = [control1, control2, control3]\n",
    "\n",
    "        # for i in range(len(sjs_list)):\n",
    "        #     if sjs_list[i]>control_list[i]:\n",
    "        #         argue += 1\n",
    "        #         sjs_result.append(sjs_list[i])\n",
    "        #         control_result.append(0)\n",
    "        #     else:\n",
    "        #         sjs_result.append(0)\n",
    "        #         control_result.append(control_list[i])\n",
    "\n",
    "        # if argue != 0:\n",
    "        #     sjs_out = np.sum(np.array(sjs_result))/argue\n",
    "        #     if (3-argue) > 0:\n",
    "        #         control_out = np.sum(np.array(control_result))/(3-argue)\n",
    "        #     else:\n",
    "        #         control_out = np.sum(np.array(control_result))\n",
    "        #     output = np.array([sjs_out, control_out])\n",
    "        # else:\n",
    "        #     sjs_out = 0\n",
    "        #     control_out = np.sum(np.array(control_result))/3\n",
    "        #     output = np.array([sjs_out, control_out])\n",
    "        \n",
    "        # pred.append(output)\n",
    "        # pred_control.append(output[1])\n",
    "        # pred_sjs.append(output[0])\n",
    "        \"\"\"Hard voting (END)\"\"\"\n",
    "\n",
    "        \"\"\"Thresholding (START)\"\"\"\n",
    "\n",
    "        th = CFG[\"THRESHOLD\"]\n",
    "\n",
    "        output = (output1+output2+output3)/3\n",
    "        for o in output:\n",
    "            if o[0] >= th:\n",
    "                pred.append(np.array([1,0]))\n",
    "            else:\n",
    "                pred.append(np.array([0,1]))\n",
    "\n",
    "        \"\"\"Thresholding (END)\"\"\"\n",
    "\n",
    "    return label_control, label_sjs, pred_control, pred_sjs, np.array(label), np.array(pred)"
   ]
  },
  {
   "cell_type": "code",
   "execution_count": 15,
   "metadata": {},
   "outputs": [],
   "source": [
    "test_dataloader = DataLoader(dataset, batch_size=1, shuffle=True)\n",
    "_, _, _, _, label, pred = test_loop(test_dataloader, model1, model2, model3, model1_save_path, model2_save_path, model3_save_path)"
   ]
  },
  {
   "cell_type": "code",
   "execution_count": 16,
   "metadata": {},
   "outputs": [
    {
     "name": "stdout",
     "output_type": "stream",
     "text": [
      "189\n",
      "216\n"
     ]
    }
   ],
   "source": [
    "test_control, test_sjs = 0, 0\n",
    "for (X, y) in test_dataloader:\n",
    "    X_np = X.cpu().detach().numpy()\n",
    "    flag = np.sum(X_np)\n",
    "\n",
    "    if flag == 0:\n",
    "        continue\n",
    "    for t in y:\n",
    "        if t[1] == torch.Tensor([1]):\n",
    "            test_control += 1\n",
    "        else:\n",
    "            test_sjs += 1\n",
    "\n",
    "print(test_control)\n",
    "print(test_sjs)"
   ]
  },
  {
   "cell_type": "code",
   "execution_count": 17,
   "metadata": {},
   "outputs": [
    {
     "data": {
      "text/plain": [
       "<Axes: >"
      ]
     },
     "execution_count": 17,
     "metadata": {},
     "output_type": "execute_result"
    },
    {
     "data": {
      "image/png": "[encoded data removed]",
      "text/plain": [
       "<Figure size 640x480 with 2 Axes>"
      ]
     },
     "metadata": {},
     "output_type": "display_data"
    }
   ],
   "source": [
    "from sklearn.metrics import roc_auc_score, roc_curve, confusion_matrix\n",
    "import seaborn as sns\n",
    "\n",
    "OH_pred = []\n",
    "\n",
    "for vector in pred:\n",
    "    OH_pred.append(np.argmax(vector, axis=0))\n",
    "\n",
    "OH_label = []\n",
    "\n",
    "for vector in label:\n",
    "    OH_label.append(np.argmax(vector, axis=0))\n",
    "\n",
    "cm = confusion_matrix(OH_label, OH_pred)\n",
    "plt.xlabel('Prediction')\n",
    "plt.ylabel('Label')\n",
    "sns.heatmap(cm, annot=True, cmap='Blues')"
   ]
  },
  {
   "cell_type": "code",
   "execution_count": 18,
   "metadata": {},
   "outputs": [
    {
     "name": "stdout",
     "output_type": "stream",
     "text": [
      "163\n",
      "182\n"
     ]
    }
   ],
   "source": [
    "sjs_correct, control_correct = 0, 0\n",
    "for idx in range(len(pred)):\n",
    "    sjs_correct += 1 if (np.argmax(pred[idx])==0 and np.argmax(label[idx])==0) else 0\n",
    "    control_correct += 1 if (np.argmax(pred[idx])==1 and np.argmax(label[idx])==1) else 0\n",
    "\n",
    "print(control_correct)\n",
    "print(sjs_correct)"
   ]
  },
  {
   "cell_type": "code",
   "execution_count": 19,
   "metadata": {},
   "outputs": [
    {
     "name": "stdout",
     "output_type": "stream",
     "text": [
      "Sensitivity: 0.8425925925925926\n",
      "Specificity: 0.8624338624338624\n",
      "Accuracy: 0.8518518518518519\n"
     ]
    }
   ],
   "source": [
    "print(f\"Sensitivity: {sjs_correct/test_sjs}\")\n",
    "print(f\"Specificity: {control_correct/test_control}\")\n",
    "print(f\"Accuracy: {(sjs_correct+control_correct)/(test_sjs+test_control)}\")"
   ]
  }
 ],
 "metadata": {
  "kernelspec": {
   "display_name": "test",
   "language": "python",
   "name": "python3"
  },
  "language_info": {
   "codemirror_mode": {
    "name": "ipython",
    "version": 3
   },
   "file_extension": ".py",
   "mimetype": "text/x-python",
   "name": "python",
   "nbconvert_exporter": "python",
   "pygments_lexer": "ipython3",
   "version": "3.11.8"
  }
 },
 "nbformat": 4,
 "nbformat_minor": 2
}
