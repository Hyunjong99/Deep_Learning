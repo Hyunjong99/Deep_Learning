{
 "cells": [
  {
   "cell_type": "code",
   "execution_count": 2,
   "metadata": {},
   "outputs": [],
   "source": [
    "import nibabel as nib\n",
    "import matplotlib.pyplot as plt\n",
    "import numpy as np\n",
    "import os\n",
    "import pandas as pd"
   ]
  },
  {
   "cell_type": "code",
   "execution_count": 6,
   "metadata": {},
   "outputs": [],
   "source": [
    "def read_path(patient, type):\n",
    "    data = []\n",
    "    # Patient -> 0:BAK, 1:IM, 2:LEE\n",
    "    # Type -> 0:ARIA, 1:AiCE, 2:IR\n",
    "    root = \"G:/Exported/\"\n",
    "    patients = [\"BAK_MYEONGHYI\", \"IM_SUKYEONG\", \"LEE_HYEONJA\"]\n",
    "    recon_type = [\"ARIA\", \"AiCE\", \"IR\"]\n",
    "    path = f\"{root}{patients[patient]}/{recon_type[type]}/\"\n",
    "    \n",
    "    for item in os.listdir(path):\n",
    "        data.append(f\"{path}{item}\")\n",
    "\n",
    "    return data"
   ]
  },
  {
   "cell_type": "code",
   "execution_count": 7,
   "metadata": {},
   "outputs": [],
   "source": [
    "bak_aria = read_path(0, 0)\n",
    "bak_aice = read_path(0, 1)\n",
    "bak_ir = read_path(0, 2)\n",
    "bak = [bak_aria, bak_aice, bak_ir]\n",
    "\n",
    "im_aria = read_path(1, 0)\n",
    "im_aice = read_path(1, 1)\n",
    "im_ir = read_path(1, 2)\n",
    "im = [im_aria, im_aice, im_ir]\n",
    "\n",
    "lee_aria = read_path(2, 0)\n",
    "lee_aice = read_path(2, 1)\n",
    "lee_ir = read_path(2, 2)\n",
    "lee = [lee_aria, lee_aice, lee_ir]\n",
    "\n",
    "patients = [bak, im, lee]"
   ]
  },
  {
   "cell_type": "code",
   "execution_count": 8,
   "metadata": {},
   "outputs": [],
   "source": [
    "def dice_custom(A, B):\n",
    "    A_flat = A.reshape(A.size)\n",
    "    B_flat = B.reshape(B.size)\n",
    "    \n",
    "    intersection = 0\n",
    "    for i in range(B.size):\n",
    "        if A_flat[i] == B_flat[i]:\n",
    "            intersection += 1\n",
    "    return (2*intersection)/(np.sum(A) + np.sum(B))"
   ]
  },
  {
   "cell_type": "code",
   "execution_count": 9,
   "metadata": {},
   "outputs": [],
   "source": [
    "def dice_score(A, B):\n",
    "    return (2*np.sum(A*B)/(np.sum(A)+np.sum(B)))"
   ]
  },
  {
   "cell_type": "code",
   "execution_count": 10,
   "metadata": {},
   "outputs": [],
   "source": [
    "def compare_organs(patient):\n",
    "    client = patients[patient]  # 어떤 환자의 데이터를 사용할 것인지\n",
    "    aice = client[1]\n",
    "    ir = client[2]\n",
    "    names = [\"BAK_MYEONGHYI\", \"IM_SUKYEONG\", \"LEE_HYEONJA\"]\n",
    "\n",
    "    dice_results = {}\n",
    "    for i in aice:\n",
    "        organ = i.split('/')[4].split('_')[3].split('.')[0]\n",
    "        A = nib.load(i).get_fdata()\n",
    "        for j in ir:\n",
    "            if organ in j:\n",
    "                B = nib.load(j).get_fdata()\n",
    "        dice_results[organ] = dice_score(A, B)\n",
    "\n",
    "    df = pd.DataFrame(list(dice_results.items()), columns=['Organ', 'Dice Coefficient'])\n",
    "    df.to_excel(f\"G:/Compare_CSV/{names[patient]}_AiCE_IR.xlsx\")\n",
    "    \n",
    "    return"
   ]
  },
  {
   "cell_type": "code",
   "execution_count": 19,
   "metadata": {},
   "outputs": [],
   "source": [
    "def compare_ctv(patient):\n",
    "    client = patients[patient]\n",
    "    if patient == 2:  # LEE -> CTV vs Brain\n",
    "        for i in client[0]:\n",
    "            if \"CTV\" in i:\n",
    "                A = nib.load(i).get_fdata()\n",
    "        for j in client[1]:\n",
    "            if \"Brain\" in j:\n",
    "                B = nib.load(j).get_fdata()\n",
    "        for k in client[2]:\n",
    "            if \"Brain\" in k:\n",
    "                C = nib.load(k).get_fdata()\n",
    "    else:  # BAK, IM -> CTV vs Breast\n",
    "        for i in client[0]:\n",
    "            if \"CTV\" in i:\n",
    "                A = nib.load(i).get_fdata()\n",
    "        for j in client[1]:\n",
    "            if \"Breast\" in j:\n",
    "                B = nib.load(j).get_fdata()\n",
    "        for k in client[2]:\n",
    "            if \"Breast\" in k:\n",
    "                C = nib.load(k).get_fdata()\n",
    "    \n",
    "    ctv_aice = dice_score(A, B)\n",
    "    ctv_ir = dice_score(A, C)\n",
    "    \n",
    "    return ctv_aice, ctv_ir"
   ]
  },
  {
   "cell_type": "code",
   "execution_count": 15,
   "metadata": {},
   "outputs": [
    {
     "ename": "KeyboardInterrupt",
     "evalue": "",
     "output_type": "error",
     "traceback": [
      "\u001b[1;31m---------------------------------------------------------------------------\u001b[0m",
      "\u001b[1;31mKeyboardInterrupt\u001b[0m                         Traceback (most recent call last)",
      "Cell \u001b[1;32mIn[15], line 1\u001b[0m\n\u001b[1;32m----> 1\u001b[0m \u001b[43mcompare_organs\u001b[49m\u001b[43m(\u001b[49m\u001b[38;5;241;43m2\u001b[39;49m\u001b[43m)\u001b[49m\n",
      "Cell \u001b[1;32mIn[10], line 14\u001b[0m, in \u001b[0;36mcompare_organs\u001b[1;34m(patient)\u001b[0m\n\u001b[0;32m     12\u001b[0m         \u001b[38;5;28;01mif\u001b[39;00m organ \u001b[38;5;129;01min\u001b[39;00m j:\n\u001b[0;32m     13\u001b[0m             B \u001b[38;5;241m=\u001b[39m nib\u001b[38;5;241m.\u001b[39mload(j)\u001b[38;5;241m.\u001b[39mget_fdata()\n\u001b[1;32m---> 14\u001b[0m     dice_results[organ] \u001b[38;5;241m=\u001b[39m \u001b[43mdice_score\u001b[49m\u001b[43m(\u001b[49m\u001b[43mA\u001b[49m\u001b[43m,\u001b[49m\u001b[43m \u001b[49m\u001b[43mB\u001b[49m\u001b[43m)\u001b[49m\n\u001b[0;32m     16\u001b[0m df \u001b[38;5;241m=\u001b[39m pd\u001b[38;5;241m.\u001b[39mDataFrame(\u001b[38;5;28mlist\u001b[39m(dice_results\u001b[38;5;241m.\u001b[39mitems()), columns\u001b[38;5;241m=\u001b[39m[\u001b[38;5;124m'\u001b[39m\u001b[38;5;124mOrgan\u001b[39m\u001b[38;5;124m'\u001b[39m, \u001b[38;5;124m'\u001b[39m\u001b[38;5;124mDice Coefficient\u001b[39m\u001b[38;5;124m'\u001b[39m])\n\u001b[0;32m     17\u001b[0m df\u001b[38;5;241m.\u001b[39mto_excel(\u001b[38;5;124mf\u001b[39m\u001b[38;5;124m\"\u001b[39m\u001b[38;5;124mG:/Compare_CSV/\u001b[39m\u001b[38;5;132;01m{\u001b[39;00mnames[patient]\u001b[38;5;132;01m}\u001b[39;00m\u001b[38;5;124m_AiCE_IR.xlsx\u001b[39m\u001b[38;5;124m\"\u001b[39m)\n",
      "Cell \u001b[1;32mIn[9], line 2\u001b[0m, in \u001b[0;36mdice_score\u001b[1;34m(A, B)\u001b[0m\n\u001b[0;32m      1\u001b[0m \u001b[38;5;28;01mdef\u001b[39;00m \u001b[38;5;21mdice_score\u001b[39m(A, B):\n\u001b[1;32m----> 2\u001b[0m     \u001b[38;5;28;01mreturn\u001b[39;00m (\u001b[38;5;241m2\u001b[39m\u001b[38;5;241m*\u001b[39mnp\u001b[38;5;241m.\u001b[39msum(A\u001b[38;5;241m*\u001b[39mB)\u001b[38;5;241m/\u001b[39m(\u001b[43mnp\u001b[49m\u001b[38;5;241;43m.\u001b[39;49m\u001b[43msum\u001b[49m\u001b[43m(\u001b[49m\u001b[43mA\u001b[49m\u001b[43m)\u001b[49m\u001b[38;5;241m+\u001b[39mnp\u001b[38;5;241m.\u001b[39msum(B)))\n",
      "File \u001b[1;32mc:\\Users\\PC00\\anaconda3\\envs\\torch\\Lib\\site-packages\\numpy\\core\\fromnumeric.py:2313\u001b[0m, in \u001b[0;36msum\u001b[1;34m(a, axis, dtype, out, keepdims, initial, where)\u001b[0m\n\u001b[0;32m   2310\u001b[0m         \u001b[38;5;28;01mreturn\u001b[39;00m out\n\u001b[0;32m   2311\u001b[0m     \u001b[38;5;28;01mreturn\u001b[39;00m res\n\u001b[1;32m-> 2313\u001b[0m \u001b[38;5;28;01mreturn\u001b[39;00m \u001b[43m_wrapreduction\u001b[49m\u001b[43m(\u001b[49m\u001b[43ma\u001b[49m\u001b[43m,\u001b[49m\u001b[43m \u001b[49m\u001b[43mnp\u001b[49m\u001b[38;5;241;43m.\u001b[39;49m\u001b[43madd\u001b[49m\u001b[43m,\u001b[49m\u001b[43m \u001b[49m\u001b[38;5;124;43m'\u001b[39;49m\u001b[38;5;124;43msum\u001b[39;49m\u001b[38;5;124;43m'\u001b[39;49m\u001b[43m,\u001b[49m\u001b[43m \u001b[49m\u001b[43maxis\u001b[49m\u001b[43m,\u001b[49m\u001b[43m \u001b[49m\u001b[43mdtype\u001b[49m\u001b[43m,\u001b[49m\u001b[43m \u001b[49m\u001b[43mout\u001b[49m\u001b[43m,\u001b[49m\u001b[43m \u001b[49m\u001b[43mkeepdims\u001b[49m\u001b[38;5;241;43m=\u001b[39;49m\u001b[43mkeepdims\u001b[49m\u001b[43m,\u001b[49m\n\u001b[0;32m   2314\u001b[0m \u001b[43m                      \u001b[49m\u001b[43minitial\u001b[49m\u001b[38;5;241;43m=\u001b[39;49m\u001b[43minitial\u001b[49m\u001b[43m,\u001b[49m\u001b[43m \u001b[49m\u001b[43mwhere\u001b[49m\u001b[38;5;241;43m=\u001b[39;49m\u001b[43mwhere\u001b[49m\u001b[43m)\u001b[49m\n",
      "File \u001b[1;32mc:\\Users\\PC00\\anaconda3\\envs\\torch\\Lib\\site-packages\\numpy\\core\\fromnumeric.py:88\u001b[0m, in \u001b[0;36m_wrapreduction\u001b[1;34m(obj, ufunc, method, axis, dtype, out, **kwargs)\u001b[0m\n\u001b[0;32m     85\u001b[0m         \u001b[38;5;28;01melse\u001b[39;00m:\n\u001b[0;32m     86\u001b[0m             \u001b[38;5;28;01mreturn\u001b[39;00m reduction(axis\u001b[38;5;241m=\u001b[39maxis, out\u001b[38;5;241m=\u001b[39mout, \u001b[38;5;241m*\u001b[39m\u001b[38;5;241m*\u001b[39mpasskwargs)\n\u001b[1;32m---> 88\u001b[0m \u001b[38;5;28;01mreturn\u001b[39;00m \u001b[43mufunc\u001b[49m\u001b[38;5;241;43m.\u001b[39;49m\u001b[43mreduce\u001b[49m\u001b[43m(\u001b[49m\u001b[43mobj\u001b[49m\u001b[43m,\u001b[49m\u001b[43m \u001b[49m\u001b[43maxis\u001b[49m\u001b[43m,\u001b[49m\u001b[43m \u001b[49m\u001b[43mdtype\u001b[49m\u001b[43m,\u001b[49m\u001b[43m \u001b[49m\u001b[43mout\u001b[49m\u001b[43m,\u001b[49m\u001b[43m \u001b[49m\u001b[38;5;241;43m*\u001b[39;49m\u001b[38;5;241;43m*\u001b[39;49m\u001b[43mpasskwargs\u001b[49m\u001b[43m)\u001b[49m\n",
      "\u001b[1;31mKeyboardInterrupt\u001b[0m: "
     ]
    }
   ],
   "source": [
    "compare_organs(2)"
   ]
  },
  {
   "cell_type": "code",
   "execution_count": 18,
   "metadata": {},
   "outputs": [
    {
     "ename": "ValueError",
     "evalue": "operands could not be broadcast together with shapes (512,512,92) (512,512,91) ",
     "output_type": "error",
     "traceback": [
      "\u001b[1;31m---------------------------------------------------------------------------\u001b[0m",
      "\u001b[1;31mValueError\u001b[0m                                Traceback (most recent call last)",
      "Cell \u001b[1;32mIn[18], line 1\u001b[0m\n\u001b[1;32m----> 1\u001b[0m ctv_aice_bak, ctv_ir_bak \u001b[38;5;241m=\u001b[39m \u001b[43mcompare_ctv\u001b[49m\u001b[43m(\u001b[49m\u001b[38;5;241;43m0\u001b[39;49m\u001b[43m)\u001b[49m\n\u001b[0;32m      2\u001b[0m ctv_aice_im, ctv_ir_im \u001b[38;5;241m=\u001b[39m compare_ctv(\u001b[38;5;241m1\u001b[39m)\n\u001b[0;32m      3\u001b[0m ctv_aice_lee, ctv_ir_lee \u001b[38;5;241m=\u001b[39m compare_ctv(\u001b[38;5;241m2\u001b[39m)\n",
      "Cell \u001b[1;32mIn[17], line 25\u001b[0m, in \u001b[0;36mcompare_ctv\u001b[1;34m(patient)\u001b[0m\n\u001b[0;32m     22\u001b[0m             C \u001b[38;5;241m=\u001b[39m nib\u001b[38;5;241m.\u001b[39mload(k)\u001b[38;5;241m.\u001b[39mget_fdata()\n\u001b[0;32m     24\u001b[0m ctv_aice \u001b[38;5;241m=\u001b[39m dice_score(A, B)\n\u001b[1;32m---> 25\u001b[0m ctv_ir \u001b[38;5;241m=\u001b[39m \u001b[43mdice_score\u001b[49m\u001b[43m(\u001b[49m\u001b[43mA\u001b[49m\u001b[43m,\u001b[49m\u001b[43m \u001b[49m\u001b[43mC\u001b[49m\u001b[43m)\u001b[49m\n\u001b[0;32m     27\u001b[0m \u001b[38;5;28;01mreturn\u001b[39;00m ctv_aice, ctv_ir\n",
      "Cell \u001b[1;32mIn[9], line 2\u001b[0m, in \u001b[0;36mdice_score\u001b[1;34m(A, B)\u001b[0m\n\u001b[0;32m      1\u001b[0m \u001b[38;5;28;01mdef\u001b[39;00m \u001b[38;5;21mdice_score\u001b[39m(A, B):\n\u001b[1;32m----> 2\u001b[0m     \u001b[38;5;28;01mreturn\u001b[39;00m (\u001b[38;5;241m2\u001b[39m\u001b[38;5;241m*\u001b[39mnp\u001b[38;5;241m.\u001b[39msum(\u001b[43mA\u001b[49m\u001b[38;5;241;43m*\u001b[39;49m\u001b[43mB\u001b[49m)\u001b[38;5;241m/\u001b[39m(np\u001b[38;5;241m.\u001b[39msum(A)\u001b[38;5;241m+\u001b[39mnp\u001b[38;5;241m.\u001b[39msum(B)))\n",
      "\u001b[1;31mValueError\u001b[0m: operands could not be broadcast together with shapes (512,512,92) (512,512,91) "
     ]
    }
   ],
   "source": [
    "ctv_aice_bak, ctv_ir_bak = compare_ctv(0)\n",
    "ctv_aice_im, ctv_ir_im = compare_ctv(1)\n",
    "ctv_aice_lee, ctv_ir_lee = compare_ctv(2)\n",
    "\n",
    "print(ctv_aice_bak, ctv_ir_bak)\n",
    "print(ctv_aice_im, ctv_ir_im)\n",
    "print(ctv_aice_lee, ctv_ir_lee)"
   ]
  },
  {
   "cell_type": "code",
   "execution_count": 59,
   "metadata": {},
   "outputs": [
    {
     "data": {
      "text/plain": [
       "0.9960578730734511"
      ]
     },
     "execution_count": 59,
     "metadata": {},
     "output_type": "execute_result"
    }
   ],
   "source": [
    "a=nib.load(\"G:/Exported/LEE_HYEONJA/AiCE/24910849_ST_23_Brain.nii.gz\").get_fdata()\n",
    "b=nib.load(\"G:/Exported/LEE_HYEONJA/IR/24910849_ST_24_Brain.nii.gz\").get_fdata()\n",
    "dice_score(a,b)"
   ]
  }
 ],
 "metadata": {
  "kernelspec": {
   "display_name": "torch",
   "language": "python",
   "name": "python3"
  },
  "language_info": {
   "codemirror_mode": {
    "name": "ipython",
    "version": 3
   },
   "file_extension": ".py",
   "mimetype": "text/x-python",
   "name": "python",
   "nbconvert_exporter": "python",
   "pygments_lexer": "ipython3",
   "version": "3.11.8"
  }
 },
 "nbformat": 4,
 "nbformat_minor": 2
}
