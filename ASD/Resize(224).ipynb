{
 "cells": [
  {
   "cell_type": "code",
   "execution_count": 1,
   "metadata": {},
   "outputs": [],
   "source": [
    "import os, time\n",
    "import cv2, PIL\n",
    "import matplotlib.pyplot as plt\n",
    "import random\n",
    "import numpy as np\n",
    "\n",
    "import nibabel as nib\n",
    "import SimpleITK as sitk\n",
    "import skimage"
   ]
  },
  {
   "cell_type": "code",
   "execution_count": 2,
   "metadata": {},
   "outputs": [],
   "source": [
    "## IDs with incomplete dataset\n",
    "EXCEPTION = [\"536\", \"537\", \"544\", \"955\", \"716\", \"733\", \"1040\", \"1727\", \"1734\", \"1746\", \"2902\", \"2909\", \"3278\", \"3395\", \"3466\", \"3564\", \"3603\", \"3624\", \"3635\", \"3663\", \"4043\", \"4044\", \"4047\", \"4067\",\n",
    "             \"4082\", \"4088\", \"4586\", \"4740\", \"4808\", \"s4-13\", \"s4-29\", \"s4-31\", \"s4-73\", \"s4-97\", \"s4-98\", \"s4-102\", \"s4-107\", \"s4-111\", \"s4-174\", \"s4-234\", \"s4-238\", \"s4-240\", \"s4-266\", \"s4-282\"]"
   ]
  },
  {
   "cell_type": "code",
   "execution_count": 3,
   "metadata": {},
   "outputs": [],
   "source": [
    "def resize_and_save(path):  # oirg.mgz (freesurfer images, T1 ONLY)\n",
    "    for diagnosis in os.listdir(path):\n",
    "        diag_path = path + diagnosis + \"/\"\n",
    "        for ID in os.listdir(diag_path):\n",
    "            if ID in EXCEPTION:\n",
    "                continue\n",
    "            im_path = f\"{diag_path}{ID}/freesurfer/mri/orig.mgz\"\n",
    "            im_array = nib.load(im_path).get_fdata()\n",
    "            resized = skimage.transform.resize(im_array, (224, 224, 224))\n",
    "            img_file = sitk.GetImageFromArray(resized)\n",
    "            sitk.WriteImage(img_file, f\"F:/ASD/Resized/{ID}.nii.gz\")\n",
    "    return\n",
    "\n",
    "root = \"F:/ASD/DATA/\"\n",
    "resize_and_save(root)"
   ]
  },
  {
   "cell_type": "code",
   "execution_count": 3,
   "metadata": {},
   "outputs": [],
   "source": [
    "root = \"F:/ASD/DATA/\"\n",
    "ctrl_ID, ASD_ID = [], []\n",
    "\n",
    "for diagnosis in os.listdir(root):\n",
    "    diag_path = root + diagnosis + '/'\n",
    "    for ID in os.listdir(diag_path):\n",
    "        if diagnosis == \"CONTROL\":\n",
    "            ctrl_ID.append(ID)\n",
    "        else:\n",
    "            ASD_ID.append(ID)"
   ]
  },
  {
   "cell_type": "code",
   "execution_count": 8,
   "metadata": {},
   "outputs": [],
   "source": [
    "import shutil\n",
    "root = \"F:/ASD/Resized/\"\n",
    "\n",
    "for img in os.listdir(root):\n",
    "    curr_path = root + img\n",
    "    if any(id in img for id in ctrl_ID):\n",
    "        dst_path = f\"{root}CONTROL/{img}\"\n",
    "        shutil.move(curr_path, dst_path)\n",
    "    elif any(id in img for id in ASD_ID):\n",
    "        dst_path = f\"{root}ASD/{img}\"\n",
    "        shutil.move(curr_path, dst_path)"
   ]
  }
 ],
 "metadata": {
  "kernelspec": {
   "display_name": "torch",
   "language": "python",
   "name": "python3"
  },
  "language_info": {
   "codemirror_mode": {
    "name": "ipython",
    "version": 3
   },
   "file_extension": ".py",
   "mimetype": "text/x-python",
   "name": "python",
   "nbconvert_exporter": "python",
   "pygments_lexer": "ipython3",
   "version": "3.11.8"
  }
 },
 "nbformat": 4,
 "nbformat_minor": 2
}
